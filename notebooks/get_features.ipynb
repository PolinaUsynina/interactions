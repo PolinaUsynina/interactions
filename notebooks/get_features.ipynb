{
  "nbformat": 4,
  "nbformat_minor": 0,
  "metadata": {
    "colab": {
      "provenance": []
    },
    "kernelspec": {
      "name": "python3",
      "display_name": "Python 3"
    },
    "language_info": {
      "name": "python"
    }
  },
  "cells": [
    {
      "cell_type": "markdown",
      "source": [
        "**In this notebook you can find the code that will create a raw dataset of solar and geomagnetic parameters for the selected pulsar**"
      ],
      "metadata": {
        "id": "Xw_o1PpX7Zdz"
      }
    },
    {
      "cell_type": "markdown",
      "source": [
        "### Import the libraries and read pulsar data"
      ],
      "metadata": {
        "id": "UguLvIQ5ELRq"
      }
    },
    {
      "cell_type": "code",
      "source": [
        "from IPython.display import clear_output"
      ],
      "metadata": {
        "id": "th3hyIATMPqa"
      },
      "execution_count": 14,
      "outputs": []
    },
    {
      "cell_type": "code",
      "source": [
        "!pip install pyspedas\n",
        "clear_output()"
      ],
      "metadata": {
        "id": "uJiYcri9MJFB"
      },
      "execution_count": 15,
      "outputs": []
    },
    {
      "cell_type": "code",
      "execution_count": 24,
      "metadata": {
        "id": "Kgnq8bT-5lHQ"
      },
      "outputs": [],
      "source": [
        "import numpy as np\n",
        "import matplotlib.pyplot as plt\n",
        "import pandas as pd\n",
        "import random\n",
        "import os\n",
        "import torch\n",
        "import requests\n",
        "\n",
        "import pyspedas\n",
        "from pyspedas.goes import xrs\n",
        "from pytplot import get_data\n",
        "from pytplot import tplot\n",
        "from pyspedas.noaa import noaa_load_kp\n",
        "\n",
        "import astropy.units as u\n",
        "from tqdm import tqdm\n",
        "from astropy.coordinates import EarthLocation, AltAz\n",
        "\n",
        "from astropy.time import Time\n",
        "from tqdm import tqdm"
      ]
    },
    {
      "cell_type": "code",
      "source": [
        "puls_name = \"J0332\" #\"J0814\", \"J1921\""
      ],
      "metadata": {
        "id": "os0fw1EZEVWm"
      },
      "execution_count": 3,
      "outputs": []
    },
    {
      "cell_type": "code",
      "source": [
        "!gdown -O J0332_time_series.txt 1fexlMUUCyhK68NvJGqnKKuN2olbJo0F7"
      ],
      "metadata": {
        "colab": {
          "base_uri": "https://localhost:8080/"
        },
        "id": "6KoNxJz5JE1K",
        "outputId": "08e60ae5-e2cb-44e4-ddb4-d9cb38eb18c1"
      },
      "execution_count": 4,
      "outputs": [
        {
          "output_type": "stream",
          "name": "stdout",
          "text": [
            "Downloading...\n",
            "From: https://drive.google.com/uc?id=1fexlMUUCyhK68NvJGqnKKuN2olbJo0F7\n",
            "To: /content/J0332_time_series.txt\n",
            "\r  0% 0.00/152k [00:00<?, ?B/s]\r100% 152k/152k [00:00<00:00, 78.8MB/s]\n"
          ]
        }
      ]
    },
    {
      "cell_type": "code",
      "source": [
        "mjd_pulsar = []\n",
        "\n",
        "with open(puls_name+\"_time_series.txt\", 'r') as f:\n",
        "    text = f.readlines()\n",
        "    for elem in text[1:]:\n",
        "        s = elem.split()\n",
        "        if s:\n",
        "            mjd_pulsar.append(float(s[0]))\n",
        "\n",
        "time_tmp = Time(mjd_pulsar, format = 'mjd')\n",
        "time_tmp.format = 'decimalyear'\n",
        "time_pulsar = np.array(time_tmp.value)"
      ],
      "metadata": {
        "id": "n6D4vKKYI9Yt"
      },
      "execution_count": 5,
      "outputs": []
    },
    {
      "cell_type": "markdown",
      "source": [
        "### Auroral indices"
      ],
      "metadata": {
        "id": "xt6p5YxzHXHs"
      }
    },
    {
      "cell_type": "markdown",
      "source": [
        "In this section we compute the dataset of auroral indices SMU, SML and SMR which has been downloaded from https://supermag.jhuapl.edu/mag/?fidelity=low&start=2018-01-29T21%3A00%3A00.000Z&interval=23%3A59&tab=largedownload for years 2014-2018 with a time resolution of 1 minute"
      ],
      "metadata": {
        "id": "ruPwNaiPHZrS"
      }
    },
    {
      "cell_type": "code",
      "source": [
        "!gdown -O 2014_auroral.csv 1VO8RJOaatYPalEXHTDJ-HvZfVM-X7chZ\n",
        "!gdown -O 2015_auroral.csv 1q28LxSALsMOP7bfbyCVQTvmo5DdhaMQP\n",
        "!gdown -O 2016_auroral.csv 1cEwIFysrgjc9bxdrWqfd62HRmtxSy4qk\n",
        "!gdown -O 2017_auroral.csv 1UtLYrFpaavVRi9Dwa7bFDAF-yPhvFxkk\n",
        "!gdown -O 2018_auroral.csv 1LuKnRsss7w3CoojbjVJtWTmlx7RLiQWo"
      ],
      "metadata": {
        "colab": {
          "base_uri": "https://localhost:8080/"
        },
        "id": "PdJu4-TgHhq7",
        "outputId": "f1fd948d-7f0e-489d-f92b-fcb4d6af80ad"
      },
      "execution_count": 2,
      "outputs": [
        {
          "output_type": "stream",
          "name": "stdout",
          "text": [
            "Downloading...\n",
            "From: https://drive.google.com/uc?id=1VO8RJOaatYPalEXHTDJ-HvZfVM-X7chZ\n",
            "To: /content/2014_auroral.csv\n",
            "100% 31.5M/31.5M [00:00<00:00, 61.2MB/s]\n",
            "Downloading...\n",
            "From: https://drive.google.com/uc?id=1q28LxSALsMOP7bfbyCVQTvmo5DdhaMQP\n",
            "To: /content/2015_auroral.csv\n",
            "100% 31.6M/31.6M [00:00<00:00, 65.4MB/s]\n",
            "Downloading...\n",
            "From: https://drive.google.com/uc?id=1cEwIFysrgjc9bxdrWqfd62HRmtxSy4qk\n",
            "To: /content/2016_auroral.csv\n",
            "100% 31.6M/31.6M [00:00<00:00, 62.1MB/s]\n",
            "Downloading...\n",
            "From: https://drive.google.com/uc?id=1UtLYrFpaavVRi9Dwa7bFDAF-yPhvFxkk\n",
            "To: /content/2017_auroral.csv\n",
            "100% 31.3M/31.3M [00:00<00:00, 73.8MB/s]\n",
            "Downloading...\n",
            "From: https://drive.google.com/uc?id=1LuKnRsss7w3CoojbjVJtWTmlx7RLiQWo\n",
            "To: /content/2018_auroral.csv\n",
            "100% 31.0M/31.0M [00:00<00:00, 70.4MB/s]\n"
          ]
        }
      ]
    },
    {
      "cell_type": "markdown",
      "source": [
        "Combine everything into one dataset:"
      ],
      "metadata": {
        "id": "_oPoJBzMJqvS"
      }
    },
    {
      "cell_type": "code",
      "source": [
        "data2014 = pd.read_csv('2014_auroral.csv')\n",
        "data2015 = pd.read_csv('2015_auroral.csv')\n",
        "data2016 = pd.read_csv('2016_auroral.csv')\n",
        "data2017 = pd.read_csv('2017_auroral.csv')\n",
        "data2018 = pd.read_csv('2018_auroral.csv')\n",
        "\n",
        "data = pd.concat([data2014, data2015, data2016, data2017, data2018], axis=0)\n",
        "data = data[['Date_UTC', 'SML', 'SMU', 'SMR']]\n",
        "data.iloc[:, 1:] = data.iloc[:, 1:].apply(pd.to_numeric, errors='coerce')"
      ],
      "metadata": {
        "id": "oNsdyTSiIyTL"
      },
      "execution_count": 9,
      "outputs": []
    },
    {
      "cell_type": "markdown",
      "source": [
        "We will transfer all the times to UNIX format"
      ],
      "metadata": {
        "id": "Dv7g-1HaJZKr"
      }
    },
    {
      "cell_type": "code",
      "source": [
        "time_tmp = Time(mjd_pulsar, format = 'mjd', scale='utc')\n",
        "time_tmp.format = 'unix'\n",
        "time_pulsar = time_tmp.value\n",
        "\n",
        "time_features = list(data[\"Date_UTC\"].astype('string'))\n",
        "time_features_tmp = Time(time_features, format='iso')\n",
        "time_features_tmp.format = 'unix'\n",
        "time_features = time_features_tmp.value"
      ],
      "metadata": {
        "id": "yVXg_XVLJOj5"
      },
      "execution_count": 10,
      "outputs": []
    },
    {
      "cell_type": "markdown",
      "source": [
        "Main function in this section which averages the values of the auroral indices over the time of observation of the pulsar"
      ],
      "metadata": {
        "id": "wRriCBohJ6iX"
      }
    },
    {
      "cell_type": "code",
      "source": [
        "def get_dataset(pulsar_time, features_time, SML, SMU, SMR):\n",
        "\n",
        "    SML_feature = []\n",
        "    SMU_feature = []\n",
        "    SMR_feature = []\n",
        "\n",
        "    for i in tqdm(range(len(pulsar_time))):\n",
        "        t = pulsar_time[i]\n",
        "        t_start = t - 7.5*60\n",
        "        t_end = t + 7.5*60\n",
        "\n",
        "        inds = []\n",
        "        for j in range(len(features_time)):\n",
        "            if features_time[j] >= t_start and features_time[j] <= t_end:\n",
        "                inds.append(j)\n",
        "\n",
        "        SML_feature.append(np.mean(SML[inds]))\n",
        "        SMU_feature.append(np.mean(SMU[inds]))\n",
        "        SMR_feature.append(np.mean(SMR[inds]))\n",
        "\n",
        "    dataset = pd.DataFrame({'SML': SML_feature, 'SMU' : SMU_feature, 'SMR' : SMR_feature})\n",
        "    return dataset"
      ],
      "metadata": {
        "id": "OAx0N_XiJ263"
      },
      "execution_count": 11,
      "outputs": []
    },
    {
      "cell_type": "markdown",
      "source": [
        "Run the function and save the data. Calculation time: from half an hour to an hour"
      ],
      "metadata": {
        "id": "Av1ydlYWKML9"
      }
    },
    {
      "cell_type": "code",
      "source": [
        "dataset = get_dataset(time_pulsar, time_features, data['SML'].to_numpy(),\\\n",
        "                        data['SMU'].to_numpy(), data['SMR'].to_numpy())"
      ],
      "metadata": {
        "id": "fV0_09b4KTfC"
      },
      "execution_count": null,
      "outputs": []
    },
    {
      "cell_type": "code",
      "source": [
        "dataset.to_csv(puls_name+\"_auroral.txt\", header=None, index=None, sep=' ', mode='w')"
      ],
      "metadata": {
        "id": "wOXtQzKEKXbL"
      },
      "execution_count": null,
      "outputs": []
    },
    {
      "cell_type": "markdown",
      "source": [
        "### Other indices"
      ],
      "metadata": {
        "id": "xuD5gSJwK2eU"
      }
    },
    {
      "cell_type": "markdown",
      "source": [
        "In this section we compute the dataset of parameters X-ray B, SYM-H, F10.7, LST which will be download with the help of pyspedas library https://pyspedas.readthedocs.io/en/latest/noaa.html. Parameters X-ray B and F10.7 were received by NOAA GOES satellites. SYM-H indices were received by World Data Center for Geomagnetism, Kyoto. LST corresponds to local solar time which was computed for each pulsar observation. X-ray B and SYM-H parameters have a time resolution of 1 minute, F10.7 parameter has a time resolution of 2 measurements per day."
      ],
      "metadata": {
        "id": "hrpbBLdQK6JB"
      }
    },
    {
      "cell_type": "code",
      "source": [
        "!gdown -O solar_fluxes.txt 1YodwkWTJTJczIRGNjNJGEvBBL9QJICQE"
      ],
      "metadata": {
        "colab": {
          "base_uri": "https://localhost:8080/"
        },
        "id": "5EwW6dctK5lR",
        "outputId": "640fc15f-2005-47e7-f1ff-c2292ae0781a"
      },
      "execution_count": 22,
      "outputs": [
        {
          "output_type": "stream",
          "name": "stdout",
          "text": [
            "Downloading...\n",
            "From: https://drive.google.com/uc?id=1YodwkWTJTJczIRGNjNJGEvBBL9QJICQE\n",
            "To: /content/solar_fluxes.txt\n",
            "\r  0% 0.00/701k [00:00<?, ?B/s]\r100% 701k/701k [00:00<00:00, 120MB/s]\n"
          ]
        }
      ]
    },
    {
      "cell_type": "code",
      "source": [
        "jd_for_flux = []\n",
        "flux = []\n",
        "\n",
        "with open(\"solar_fluxes.txt\", 'r') as f:\n",
        "    text = f.readlines()\n",
        "    for elem in text:\n",
        "        s = elem.split()\n",
        "        if s:\n",
        "            jd_for_flux.append(float(s[2]))\n",
        "            flux.append(float(s[5]))\n",
        "\n",
        "time_tmp = Time(jd_for_flux, format = 'jd')\n",
        "time_tmp.format = 'decimalyear'\n",
        "time_for_flux = time_tmp.value"
      ],
      "metadata": {
        "id": "l3_YiY2hOPEi"
      },
      "execution_count": 18,
      "outputs": []
    },
    {
      "cell_type": "code",
      "source": [
        "plt.plot(time_for_flux, flux)\n",
        "plt.xlabel(\"Year\")\n",
        "plt.ylabel(\"Daily flux values\")\n",
        "plt.title(\"Solar 10.7cm flux over time\")\n",
        "plt.show()"
      ],
      "metadata": {
        "colab": {
          "base_uri": "https://localhost:8080/",
          "height": 472
        },
        "id": "Um3v-gTqOUNL",
        "outputId": "da238aa6-9154-4e3e-d57b-7d0a46cffe99"
      },
      "execution_count": 19,
      "outputs": [
        {
          "output_type": "display_data",
          "data": {
            "text/plain": [
              "<Figure size 640x480 with 1 Axes>"
            ],
            "image/png": "[encoded data removed]"
          },
          "metadata": {}
        }
      ]
    },
    {
      "cell_type": "markdown",
      "source": [
        "Let's clear the fluxes data from obvious otliers:"
      ],
      "metadata": {
        "id": "4AqvhmmbOXWH"
      }
    },
    {
      "cell_type": "code",
      "source": [
        "time_for_flux_cleared = []\n",
        "flux_cleared = []\n",
        "\n",
        "threshold = 300\n",
        "for i in range(len(flux)):\n",
        "    if flux[i] < threshold:\n",
        "        flux_cleared.append(flux[i])\n",
        "        time_for_flux_cleared.append(time_for_flux[i])"
      ],
      "metadata": {
        "id": "s4hjstG0OcJM"
      },
      "execution_count": 20,
      "outputs": []
    },
    {
      "cell_type": "code",
      "source": [
        "plt.plot(time_for_flux_cleared, flux_cleared)\n",
        "plt.xlabel(\"Year\")\n",
        "plt.ylabel(\"Daily flux values\")\n",
        "plt.title(\"Solar 10.7cm flux over time without outliers\")\n",
        "plt.show()"
      ],
      "metadata": {
        "colab": {
          "base_uri": "https://localhost:8080/",
          "height": 472
        },
        "id": "gfvbBV8UOgUP",
        "outputId": "9bb2f8d9-89d4-4979-8fe0-10e87d6722e2"
      },
      "execution_count": 21,
      "outputs": [
        {
          "output_type": "display_data",
          "data": {
            "text/plain": [
              "<Figure size 640x480 with 1 Axes>"
            ],
            "image/png": "[encoded data removed]"
          },
          "metadata": {}
        }
      ]
    },
    {
      "cell_type": "markdown",
      "source": [
        "Now we download the data for other parameters with pyspedas. It might take some time"
      ],
      "metadata": {
        "id": "9FEgT-eIOvWj"
      }
    },
    {
      "cell_type": "code",
      "source": [
        "import pyspedas\n",
        "from pyspedas.goes import xrs\n",
        "from pytplot import get_data\n",
        "from pytplot import tplot\n",
        "\n",
        "xrs_data = xrs(trange=['2014-01-01', '2018-12-31'])\n",
        "\n",
        "time_B_AVG, B_AVG = np.array(get_data('g15_xrs_B_AVG').times), np.array(get_data('g15_xrs_B_AVG').y)\n",
        "#clear_output()"
      ],
      "metadata": {
        "colab": {
          "base_uri": "https://localhost:8080/"
        },
        "id": "p96CgY6UOsFy",
        "outputId": "0c8ae560-2409-4a4f-ce7e-cb5dfcb2e0a0"
      },
      "execution_count": 29,
      "outputs": [
        {
          "output_type": "stream",
          "name": "stderr",
          "text": [
            "26-Nov-24 21:00:35: Downloading remote index: https://www.ncei.noaa.gov/data/goes-space-environment-monitor/access/avg/2014/01/goes15/netcdf/\n",
            "26-Nov-24 21:00:36: File is current: goes_data/avg/2014/01/goes15/netcdf/g15_xrs_1m_20140101_20140131.nc\n",
            "26-Nov-24 21:00:36: Downloading remote index: https://www.ncei.noaa.gov/data/goes-space-environment-monitor/access/avg/2014/02/goes15/netcdf/\n",
            "26-Nov-24 21:00:36: File is current: goes_data/avg/2014/02/goes15/netcdf/g15_xrs_1m_20140201_20140228.nc\n",
            "26-Nov-24 21:00:36: Downloading remote index: https://www.ncei.noaa.gov/data/goes-space-environment-monitor/access/avg/2014/03/goes15/netcdf/\n",
            "26-Nov-24 21:00:37: File is current: goes_data/avg/2014/03/goes15/netcdf/g15_xrs_1m_20140301_20140331.nc\n",
            "26-Nov-24 21:00:37: Downloading remote index: https://www.ncei.noaa.gov/data/goes-space-environment-monitor/access/avg/2014/04/goes15/netcdf/\n",
            "26-Nov-24 21:00:37: File is current: goes_data/avg/2014/04/goes15/netcdf/g15_xrs_1m_20140401_20140430.nc\n",
            "26-Nov-24 21:00:37: Downloading remote index: https://www.ncei.noaa.gov/data/goes-space-environment-monitor/access/avg/2014/05/goes15/netcdf/\n",
            "26-Nov-24 21:00:38: File is current: goes_data/avg/2014/05/goes15/netcdf/g15_xrs_1m_20140501_20140531.nc\n",
            "26-Nov-24 21:00:38: Downloading remote index: https://www.ncei.noaa.gov/data/goes-space-environment-monitor/access/avg/2014/06/goes15/netcdf/\n",
            "26-Nov-24 21:00:39: File is current: goes_data/avg/2014/06/goes15/netcdf/g15_xrs_1m_20140601_20140630.nc\n",
            "26-Nov-24 21:00:39: Downloading remote index: https://www.ncei.noaa.gov/data/goes-space-environment-monitor/access/avg/2014/07/goes15/netcdf/\n",
            "26-Nov-24 21:00:39: File is current: goes_data/avg/2014/07/goes15/netcdf/g15_xrs_1m_20140701_20140731.nc\n",
            "26-Nov-24 21:00:39: Downloading remote index: https://www.ncei.noaa.gov/data/goes-space-environment-monitor/access/avg/2014/08/goes15/netcdf/\n",
            "26-Nov-24 21:00:40: File is current: goes_data/avg/2014/08/goes15/netcdf/g15_xrs_1m_20140801_20140831.nc\n",
            "26-Nov-24 21:00:40: Downloading remote index: https://www.ncei.noaa.gov/data/goes-space-environment-monitor/access/avg/2014/09/goes15/netcdf/\n",
            "26-Nov-24 21:00:41: File is current: goes_data/avg/2014/09/goes15/netcdf/g15_xrs_1m_20140901_20140930.nc\n",
            "26-Nov-24 21:00:41: Downloading remote index: https://www.ncei.noaa.gov/data/goes-space-environment-monitor/access/avg/2014/10/goes15/netcdf/\n",
            "26-Nov-24 21:00:41: File is current: goes_data/avg/2014/10/goes15/netcdf/g15_xrs_1m_20141001_20141031.nc\n",
            "26-Nov-24 21:00:41: Downloading remote index: https://www.ncei.noaa.gov/data/goes-space-environment-monitor/access/avg/2014/11/goes15/netcdf/\n",
            "26-Nov-24 21:00:42: File is current: goes_data/avg/2014/11/goes15/netcdf/g15_xrs_1m_20141101_20141130.nc\n",
            "26-Nov-24 21:00:42: Downloading remote index: https://www.ncei.noaa.gov/data/goes-space-environment-monitor/access/avg/2014/12/goes15/netcdf/\n",
            "26-Nov-24 21:00:43: File is current: goes_data/avg/2014/12/goes15/netcdf/g15_xrs_1m_20141201_20141231.nc\n",
            "26-Nov-24 21:00:43: Downloading remote index: https://www.ncei.noaa.gov/data/goes-space-environment-monitor/access/avg/2015/01/goes15/netcdf/\n",
            "26-Nov-24 21:00:43: File is current: goes_data/avg/2015/01/goes15/netcdf/g15_xrs_1m_20150101_20150131.nc\n",
            "26-Nov-24 21:00:43: Downloading remote index: https://www.ncei.noaa.gov/data/goes-space-environment-monitor/access/avg/2015/02/goes15/netcdf/\n",
            "26-Nov-24 21:00:44: File is current: goes_data/avg/2015/02/goes15/netcdf/g15_xrs_1m_20150201_20150228.nc\n",
            "26-Nov-24 21:00:44: Downloading remote index: https://www.ncei.noaa.gov/data/goes-space-environment-monitor/access/avg/2015/03/goes15/netcdf/\n",
            "26-Nov-24 21:00:44: File is current: goes_data/avg/2015/03/goes15/netcdf/g15_xrs_1m_20150301_20150331.nc\n",
            "26-Nov-24 21:00:44: Downloading remote index: https://www.ncei.noaa.gov/data/goes-space-environment-monitor/access/avg/2015/04/goes15/netcdf/\n",
            "26-Nov-24 21:00:45: File is current: goes_data/avg/2015/04/goes15/netcdf/g15_xrs_1m_20150401_20150430.nc\n",
            "26-Nov-24 21:00:45: Downloading remote index: https://www.ncei.noaa.gov/data/goes-space-environment-monitor/access/avg/2015/05/goes15/netcdf/\n",
            "26-Nov-24 21:00:46: File is current: goes_data/avg/2015/05/goes15/netcdf/g15_xrs_1m_20150501_20150531.nc\n",
            "26-Nov-24 21:00:46: Downloading remote index: https://www.ncei.noaa.gov/data/goes-space-environment-monitor/access/avg/2015/06/goes15/netcdf/\n",
            "26-Nov-24 21:00:46: File is current: goes_data/avg/2015/06/goes15/netcdf/g15_xrs_1m_20150601_20150630.nc\n",
            "26-Nov-24 21:00:46: Downloading remote index: https://www.ncei.noaa.gov/data/goes-space-environment-monitor/access/avg/2015/07/goes15/netcdf/\n",
            "26-Nov-24 21:00:47: File is current: goes_data/avg/2015/07/goes15/netcdf/g15_xrs_1m_20150701_20150731.nc\n",
            "26-Nov-24 21:00:47: Downloading remote index: https://www.ncei.noaa.gov/data/goes-space-environment-monitor/access/avg/2015/08/goes15/netcdf/\n",
            "26-Nov-24 21:00:47: File is current: goes_data/avg/2015/08/goes15/netcdf/g15_xrs_1m_20150801_20150831.nc\n",
            "26-Nov-24 21:00:47: Downloading remote index: https://www.ncei.noaa.gov/data/goes-space-environment-monitor/access/avg/2015/09/goes15/netcdf/\n",
            "26-Nov-24 21:00:48: File is current: goes_data/avg/2015/09/goes15/netcdf/g15_xrs_1m_20150901_20150930.nc\n",
            "26-Nov-24 21:00:48: Downloading remote index: https://www.ncei.noaa.gov/data/goes-space-environment-monitor/access/avg/2015/10/goes15/netcdf/\n",
            "26-Nov-24 21:00:49: File is current: goes_data/avg/2015/10/goes15/netcdf/g15_xrs_1m_20151001_20151031.nc\n",
            "26-Nov-24 21:00:49: Downloading remote index: https://www.ncei.noaa.gov/data/goes-space-environment-monitor/access/avg/2015/11/goes15/netcdf/\n",
            "26-Nov-24 21:00:49: File is current: goes_data/avg/2015/11/goes15/netcdf/g15_xrs_1m_20151101_20151130.nc\n",
            "26-Nov-24 21:00:49: Downloading remote index: https://www.ncei.noaa.gov/data/goes-space-environment-monitor/access/avg/2015/12/goes15/netcdf/\n",
            "26-Nov-24 21:00:50: File is current: goes_data/avg/2015/12/goes15/netcdf/g15_xrs_1m_20151201_20151231.nc\n",
            "26-Nov-24 21:00:50: Downloading remote index: https://www.ncei.noaa.gov/data/goes-space-environment-monitor/access/avg/2016/01/goes15/netcdf/\n",
            "26-Nov-24 21:00:51: File is current: goes_data/avg/2016/01/goes15/netcdf/g15_xrs_1m_20160101_20160131.nc\n",
            "26-Nov-24 21:00:51: Downloading remote index: https://www.ncei.noaa.gov/data/goes-space-environment-monitor/access/avg/2016/02/goes15/netcdf/\n",
            "26-Nov-24 21:00:51: File is current: goes_data/avg/2016/02/goes15/netcdf/g15_xrs_1m_20160201_20160229.nc\n",
            "26-Nov-24 21:00:51: Downloading remote index: https://www.ncei.noaa.gov/data/goes-space-environment-monitor/access/avg/2016/03/goes15/netcdf/\n",
            "26-Nov-24 21:00:52: File is current: goes_data/avg/2016/03/goes15/netcdf/g15_xrs_1m_20160301_20160331.nc\n",
            "26-Nov-24 21:00:52: Downloading remote index: https://www.ncei.noaa.gov/data/goes-space-environment-monitor/access/avg/2016/04/goes15/netcdf/\n",
            "26-Nov-24 21:00:52: File is current: goes_data/avg/2016/04/goes15/netcdf/g15_xrs_1m_20160401_20160430.nc\n",
            "26-Nov-24 21:00:52: Downloading remote index: https://www.ncei.noaa.gov/data/goes-space-environment-monitor/access/avg/2016/05/goes15/netcdf/\n",
            "26-Nov-24 21:00:53: File is current: goes_data/avg/2016/05/goes15/netcdf/g15_xrs_1m_20160501_20160531.nc\n",
            "26-Nov-24 21:00:53: Downloading remote index: https://www.ncei.noaa.gov/data/goes-space-environment-monitor/access/avg/2016/06/goes15/netcdf/\n",
            "26-Nov-24 21:00:54: File is current: goes_data/avg/2016/06/goes15/netcdf/g15_xrs_1m_20160601_20160630.nc\n",
            "26-Nov-24 21:00:54: Downloading remote index: https://www.ncei.noaa.gov/data/goes-space-environment-monitor/access/avg/2016/07/goes15/netcdf/\n",
            "26-Nov-24 21:00:54: File is current: goes_data/avg/2016/07/goes15/netcdf/g15_xrs_1m_20160701_20160731.nc\n",
            "26-Nov-24 21:00:54: Downloading remote index: https://www.ncei.noaa.gov/data/goes-space-environment-monitor/access/avg/2016/08/goes15/netcdf/\n",
            "26-Nov-24 21:00:55: File is current: goes_data/avg/2016/08/goes15/netcdf/g15_xrs_1m_20160801_20160831.nc\n",
            "26-Nov-24 21:00:55: Downloading remote index: https://www.ncei.noaa.gov/data/goes-space-environment-monitor/access/avg/2016/09/goes15/netcdf/\n",
            "26-Nov-24 21:00:56: File is current: goes_data/avg/2016/09/goes15/netcdf/g15_xrs_1m_20160901_20160930.nc\n",
            "26-Nov-24 21:00:56: Downloading remote index: https://www.ncei.noaa.gov/data/goes-space-environment-monitor/access/avg/2016/10/goes15/netcdf/\n",
            "26-Nov-24 21:00:56: File is current: goes_data/avg/2016/10/goes15/netcdf/g15_xrs_1m_20161001_20161031.nc\n",
            "26-Nov-24 21:00:56: Downloading remote index: https://www.ncei.noaa.gov/data/goes-space-environment-monitor/access/avg/2016/11/goes15/netcdf/\n",
            "26-Nov-24 21:00:57: File is current: goes_data/avg/2016/11/goes15/netcdf/g15_xrs_1m_20161101_20161130.nc\n",
            "26-Nov-24 21:00:57: Downloading remote index: https://www.ncei.noaa.gov/data/goes-space-environment-monitor/access/avg/2016/12/goes15/netcdf/\n",
            "26-Nov-24 21:00:57: File is current: goes_data/avg/2016/12/goes15/netcdf/g15_xrs_1m_20161201_20161231.nc\n",
            "26-Nov-24 21:00:57: Downloading remote index: https://www.ncei.noaa.gov/data/goes-space-environment-monitor/access/avg/2017/01/goes15/netcdf/\n",
            "26-Nov-24 21:00:58: File is current: goes_data/avg/2017/01/goes15/netcdf/g15_xrs_1m_20170101_20170131.nc\n",
            "26-Nov-24 21:00:58: Downloading remote index: https://www.ncei.noaa.gov/data/goes-space-environment-monitor/access/avg/2017/02/goes15/netcdf/\n",
            "26-Nov-24 21:00:59: File is current: goes_data/avg/2017/02/goes15/netcdf/g15_xrs_1m_20170201_20170228.nc\n",
            "26-Nov-24 21:00:59: Downloading remote index: https://www.ncei.noaa.gov/data/goes-space-environment-monitor/access/avg/2017/03/goes15/netcdf/\n",
            "26-Nov-24 21:00:59: File is current: goes_data/avg/2017/03/goes15/netcdf/g15_xrs_1m_20170301_20170331.nc\n",
            "26-Nov-24 21:00:59: Downloading remote index: https://www.ncei.noaa.gov/data/goes-space-environment-monitor/access/avg/2017/04/goes15/netcdf/\n",
            "26-Nov-24 21:01:00: File is current: goes_data/avg/2017/04/goes15/netcdf/g15_xrs_1m_20170401_20170430.nc\n",
            "26-Nov-24 21:01:00: Downloading remote index: https://www.ncei.noaa.gov/data/goes-space-environment-monitor/access/avg/2017/05/goes15/netcdf/\n",
            "26-Nov-24 21:01:01: File is current: goes_data/avg/2017/05/goes15/netcdf/g15_xrs_1m_20170501_20170531.nc\n",
            "26-Nov-24 21:01:01: Downloading remote index: https://www.ncei.noaa.gov/data/goes-space-environment-monitor/access/avg/2017/06/goes15/netcdf/\n",
            "26-Nov-24 21:01:01: File is current: goes_data/avg/2017/06/goes15/netcdf/g15_xrs_1m_20170601_20170630.nc\n",
            "26-Nov-24 21:01:01: Downloading remote index: https://www.ncei.noaa.gov/data/goes-space-environment-monitor/access/avg/2017/07/goes15/netcdf/\n",
            "26-Nov-24 21:01:02: File is current: goes_data/avg/2017/07/goes15/netcdf/g15_xrs_1m_20170701_20170731.nc\n",
            "26-Nov-24 21:01:02: Downloading remote index: https://www.ncei.noaa.gov/data/goes-space-environment-monitor/access/avg/2017/08/goes15/netcdf/\n",
            "26-Nov-24 21:01:03: File is current: goes_data/avg/2017/08/goes15/netcdf/g15_xrs_1m_20170801_20170831.nc\n",
            "26-Nov-24 21:01:03: Downloading remote index: https://www.ncei.noaa.gov/data/goes-space-environment-monitor/access/avg/2017/09/goes15/netcdf/\n",
            "26-Nov-24 21:01:03: File is current: goes_data/avg/2017/09/goes15/netcdf/g15_xrs_1m_20170901_20170930.nc\n",
            "26-Nov-24 21:01:03: Downloading remote index: https://www.ncei.noaa.gov/data/goes-space-environment-monitor/access/avg/2017/10/goes15/netcdf/\n",
            "26-Nov-24 21:01:04: File is current: goes_data/avg/2017/10/goes15/netcdf/g15_xrs_1m_20171001_20171031.nc\n",
            "26-Nov-24 21:01:04: Downloading remote index: https://www.ncei.noaa.gov/data/goes-space-environment-monitor/access/avg/2017/11/goes15/netcdf/\n",
            "26-Nov-24 21:01:04: File is current: goes_data/avg/2017/11/goes15/netcdf/g15_xrs_1m_20171101_20171130.nc\n",
            "26-Nov-24 21:01:04: Downloading remote index: https://www.ncei.noaa.gov/data/goes-space-environment-monitor/access/avg/2017/12/goes15/netcdf/\n",
            "26-Nov-24 21:01:05: File is current: goes_data/avg/2017/12/goes15/netcdf/g15_xrs_1m_20171201_20171231.nc\n",
            "26-Nov-24 21:01:05: Downloading remote index: https://www.ncei.noaa.gov/data/goes-space-environment-monitor/access/avg/2018/01/goes15/netcdf/\n",
            "26-Nov-24 21:01:06: File is current: goes_data/avg/2018/01/goes15/netcdf/g15_xrs_1m_20180101_20180131.nc\n",
            "26-Nov-24 21:01:06: Downloading remote index: https://www.ncei.noaa.gov/data/goes-space-environment-monitor/access/avg/2018/02/goes15/netcdf/\n",
            "26-Nov-24 21:01:06: File is current: goes_data/avg/2018/02/goes15/netcdf/g15_xrs_1m_20180201_20180228.nc\n",
            "26-Nov-24 21:01:06: Downloading remote index: https://www.ncei.noaa.gov/data/goes-space-environment-monitor/access/avg/2018/03/goes15/netcdf/\n",
            "26-Nov-24 21:01:07: File is current: goes_data/avg/2018/03/goes15/netcdf/g15_xrs_1m_20180301_20180331.nc\n",
            "26-Nov-24 21:01:07: Downloading remote index: https://www.ncei.noaa.gov/data/goes-space-environment-monitor/access/avg/2018/04/goes15/netcdf/\n",
            "26-Nov-24 21:01:08: File is current: goes_data/avg/2018/04/goes15/netcdf/g15_xrs_1m_20180401_20180430.nc\n",
            "26-Nov-24 21:01:08: Downloading remote index: https://www.ncei.noaa.gov/data/goes-space-environment-monitor/access/avg/2018/05/goes15/netcdf/\n",
            "26-Nov-24 21:01:08: File is current: goes_data/avg/2018/05/goes15/netcdf/g15_xrs_1m_20180501_20180531.nc\n",
            "26-Nov-24 21:01:08: Downloading remote index: https://www.ncei.noaa.gov/data/goes-space-environment-monitor/access/avg/2018/06/goes15/netcdf/\n",
            "26-Nov-24 21:01:09: File is current: goes_data/avg/2018/06/goes15/netcdf/g15_xrs_1m_20180601_20180630.nc\n",
            "26-Nov-24 21:01:09: Downloading remote index: https://www.ncei.noaa.gov/data/goes-space-environment-monitor/access/avg/2018/07/goes15/netcdf/\n",
            "26-Nov-24 21:01:10: File is current: goes_data/avg/2018/07/goes15/netcdf/g15_xrs_1m_20180701_20180731.nc\n",
            "26-Nov-24 21:01:10: Downloading remote index: https://www.ncei.noaa.gov/data/goes-space-environment-monitor/access/avg/2018/08/goes15/netcdf/\n",
            "26-Nov-24 21:01:10: File is current: goes_data/avg/2018/08/goes15/netcdf/g15_xrs_1m_20180801_20180831.nc\n",
            "26-Nov-24 21:01:10: Downloading remote index: https://www.ncei.noaa.gov/data/goes-space-environment-monitor/access/avg/2018/09/goes15/netcdf/\n",
            "26-Nov-24 21:01:11: File is current: goes_data/avg/2018/09/goes15/netcdf/g15_xrs_1m_20180901_20180930.nc\n",
            "26-Nov-24 21:01:11: Downloading remote index: https://www.ncei.noaa.gov/data/goes-space-environment-monitor/access/avg/2018/10/goes15/netcdf/\n",
            "26-Nov-24 21:01:12: File is current: goes_data/avg/2018/10/goes15/netcdf/g15_xrs_1m_20181001_20181031.nc\n",
            "26-Nov-24 21:01:12: Downloading remote index: https://www.ncei.noaa.gov/data/goes-space-environment-monitor/access/avg/2018/11/goes15/netcdf/\n",
            "26-Nov-24 21:01:13: File is current: goes_data/avg/2018/11/goes15/netcdf/g15_xrs_1m_20181101_20181130.nc\n",
            "26-Nov-24 21:01:13: Downloading remote index: https://www.ncei.noaa.gov/data/goes-space-environment-monitor/access/avg/2018/12/goes15/netcdf/\n",
            "26-Nov-24 21:01:13: File is current: goes_data/avg/2018/12/goes15/netcdf/g15_xrs_1m_20181201_20181231.nc\n"
          ]
        }
      ]
    },
    {
      "cell_type": "code",
      "source": [
        "omni_vars = pyspedas.omni.data(trange=['2014-01-01', '2018-12-31'])\n",
        "\n",
        "time_SYM_H, SYM_H = np.array(get_data('SYM_H').times), np.array(get_data('SYM_H').y)\n",
        "#clear_output()"
      ],
      "metadata": {
        "colab": {
          "base_uri": "https://localhost:8080/"
        },
        "id": "1r9TJdZLOlL_",
        "outputId": "6989e3c0-157a-4c85-c5d5-99c388616c80"
      },
      "execution_count": 30,
      "outputs": [
        {
          "output_type": "stream",
          "name": "stderr",
          "text": [
            "26-Nov-24 21:02:42: Downloading remote index: https://spdf.gsfc.nasa.gov/pub/data/omni/omni_cdaweb/hro2_1min/2014/\n",
            "26-Nov-24 21:02:42: Downloading https://spdf.gsfc.nasa.gov/pub/data/omni/omni_cdaweb/hro2_1min/2014/omni_hro2_1min_20140101_v01.cdf to omni_data/hro2_1min/2014/omni_hro2_1min_20140101_v01.cdf\n",
            "26-Nov-24 21:02:42: Download complete: omni_data/hro2_1min/2014/omni_hro2_1min_20140101_v01.cdf\n",
            "26-Nov-24 21:02:42: Downloading https://spdf.gsfc.nasa.gov/pub/data/omni/omni_cdaweb/hro2_1min/2014/omni_hro2_1min_20140201_v01.cdf to omni_data/hro2_1min/2014/omni_hro2_1min_20140201_v01.cdf\n",
            "26-Nov-24 21:02:43: Download complete: omni_data/hro2_1min/2014/omni_hro2_1min_20140201_v01.cdf\n",
            "26-Nov-24 21:02:43: Downloading https://spdf.gsfc.nasa.gov/pub/data/omni/omni_cdaweb/hro2_1min/2014/omni_hro2_1min_20140301_v01.cdf to omni_data/hro2_1min/2014/omni_hro2_1min_20140301_v01.cdf\n",
            "26-Nov-24 21:02:43: Download complete: omni_data/hro2_1min/2014/omni_hro2_1min_20140301_v01.cdf\n",
            "26-Nov-24 21:02:43: Downloading https://spdf.gsfc.nasa.gov/pub/data/omni/omni_cdaweb/hro2_1min/2014/omni_hro2_1min_20140401_v01.cdf to omni_data/hro2_1min/2014/omni_hro2_1min_20140401_v01.cdf\n",
            "26-Nov-24 21:02:44: Download complete: omni_data/hro2_1min/2014/omni_hro2_1min_20140401_v01.cdf\n",
            "26-Nov-24 21:02:44: Downloading https://spdf.gsfc.nasa.gov/pub/data/omni/omni_cdaweb/hro2_1min/2014/omni_hro2_1min_20140501_v01.cdf to omni_data/hro2_1min/2014/omni_hro2_1min_20140501_v01.cdf\n",
            "26-Nov-24 21:02:44: Download complete: omni_data/hro2_1min/2014/omni_hro2_1min_20140501_v01.cdf\n",
            "26-Nov-24 21:02:44: Downloading https://spdf.gsfc.nasa.gov/pub/data/omni/omni_cdaweb/hro2_1min/2014/omni_hro2_1min_20140601_v01.cdf to omni_data/hro2_1min/2014/omni_hro2_1min_20140601_v01.cdf\n",
            "26-Nov-24 21:02:45: Download complete: omni_data/hro2_1min/2014/omni_hro2_1min_20140601_v01.cdf\n",
            "26-Nov-24 21:02:45: Downloading https://spdf.gsfc.nasa.gov/pub/data/omni/omni_cdaweb/hro2_1min/2014/omni_hro2_1min_20140701_v01.cdf to omni_data/hro2_1min/2014/omni_hro2_1min_20140701_v01.cdf\n",
            "26-Nov-24 21:02:45: Download complete: omni_data/hro2_1min/2014/omni_hro2_1min_20140701_v01.cdf\n",
            "26-Nov-24 21:02:45: Downloading https://spdf.gsfc.nasa.gov/pub/data/omni/omni_cdaweb/hro2_1min/2014/omni_hro2_1min_20140801_v01.cdf to omni_data/hro2_1min/2014/omni_hro2_1min_20140801_v01.cdf\n",
            "26-Nov-24 21:02:46: Download complete: omni_data/hro2_1min/2014/omni_hro2_1min_20140801_v01.cdf\n",
            "26-Nov-24 21:02:46: Downloading https://spdf.gsfc.nasa.gov/pub/data/omni/omni_cdaweb/hro2_1min/2014/omni_hro2_1min_20140901_v01.cdf to omni_data/hro2_1min/2014/omni_hro2_1min_20140901_v01.cdf\n",
            "26-Nov-24 21:02:46: Download complete: omni_data/hro2_1min/2014/omni_hro2_1min_20140901_v01.cdf\n",
            "26-Nov-24 21:02:46: Downloading https://spdf.gsfc.nasa.gov/pub/data/omni/omni_cdaweb/hro2_1min/2014/omni_hro2_1min_20141001_v01.cdf to omni_data/hro2_1min/2014/omni_hro2_1min_20141001_v01.cdf\n",
            "26-Nov-24 21:02:47: Download complete: omni_data/hro2_1min/2014/omni_hro2_1min_20141001_v01.cdf\n",
            "26-Nov-24 21:02:47: Downloading https://spdf.gsfc.nasa.gov/pub/data/omni/omni_cdaweb/hro2_1min/2014/omni_hro2_1min_20141101_v01.cdf to omni_data/hro2_1min/2014/omni_hro2_1min_20141101_v01.cdf\n",
            "26-Nov-24 21:02:47: Download complete: omni_data/hro2_1min/2014/omni_hro2_1min_20141101_v01.cdf\n",
            "26-Nov-24 21:02:48: Downloading https://spdf.gsfc.nasa.gov/pub/data/omni/omni_cdaweb/hro2_1min/2014/omni_hro2_1min_20141201_v01.cdf to omni_data/hro2_1min/2014/omni_hro2_1min_20141201_v01.cdf\n",
            "26-Nov-24 21:02:48: Download complete: omni_data/hro2_1min/2014/omni_hro2_1min_20141201_v01.cdf\n",
            "26-Nov-24 21:02:48: Downloading remote index: https://spdf.gsfc.nasa.gov/pub/data/omni/omni_cdaweb/hro2_1min/2015/\n",
            "26-Nov-24 21:02:48: Downloading https://spdf.gsfc.nasa.gov/pub/data/omni/omni_cdaweb/hro2_1min/2015/omni_hro2_1min_20150101_v01.cdf to omni_data/hro2_1min/2015/omni_hro2_1min_20150101_v01.cdf\n",
            "26-Nov-24 21:02:48: Download complete: omni_data/hro2_1min/2015/omni_hro2_1min_20150101_v01.cdf\n",
            "26-Nov-24 21:02:49: Downloading https://spdf.gsfc.nasa.gov/pub/data/omni/omni_cdaweb/hro2_1min/2015/omni_hro2_1min_20150201_v01.cdf to omni_data/hro2_1min/2015/omni_hro2_1min_20150201_v01.cdf\n",
            "26-Nov-24 21:02:49: Download complete: omni_data/hro2_1min/2015/omni_hro2_1min_20150201_v01.cdf\n",
            "26-Nov-24 21:02:49: Downloading https://spdf.gsfc.nasa.gov/pub/data/omni/omni_cdaweb/hro2_1min/2015/omni_hro2_1min_20150301_v01.cdf to omni_data/hro2_1min/2015/omni_hro2_1min_20150301_v01.cdf\n",
            "26-Nov-24 21:02:49: Download complete: omni_data/hro2_1min/2015/omni_hro2_1min_20150301_v01.cdf\n",
            "26-Nov-24 21:02:50: Downloading https://spdf.gsfc.nasa.gov/pub/data/omni/omni_cdaweb/hro2_1min/2015/omni_hro2_1min_20150401_v01.cdf to omni_data/hro2_1min/2015/omni_hro2_1min_20150401_v01.cdf\n",
            "26-Nov-24 21:02:50: Download complete: omni_data/hro2_1min/2015/omni_hro2_1min_20150401_v01.cdf\n",
            "26-Nov-24 21:02:50: Downloading https://spdf.gsfc.nasa.gov/pub/data/omni/omni_cdaweb/hro2_1min/2015/omni_hro2_1min_20150501_v01.cdf to omni_data/hro2_1min/2015/omni_hro2_1min_20150501_v01.cdf\n",
            "26-Nov-24 21:02:50: Download complete: omni_data/hro2_1min/2015/omni_hro2_1min_20150501_v01.cdf\n",
            "26-Nov-24 21:02:50: Downloading https://spdf.gsfc.nasa.gov/pub/data/omni/omni_cdaweb/hro2_1min/2015/omni_hro2_1min_20150601_v01.cdf to omni_data/hro2_1min/2015/omni_hro2_1min_20150601_v01.cdf\n",
            "26-Nov-24 21:02:51: Download complete: omni_data/hro2_1min/2015/omni_hro2_1min_20150601_v01.cdf\n",
            "26-Nov-24 21:02:51: Downloading https://spdf.gsfc.nasa.gov/pub/data/omni/omni_cdaweb/hro2_1min/2015/omni_hro2_1min_20150701_v01.cdf to omni_data/hro2_1min/2015/omni_hro2_1min_20150701_v01.cdf\n",
            "26-Nov-24 21:02:51: Download complete: omni_data/hro2_1min/2015/omni_hro2_1min_20150701_v01.cdf\n",
            "26-Nov-24 21:02:51: Downloading https://spdf.gsfc.nasa.gov/pub/data/omni/omni_cdaweb/hro2_1min/2015/omni_hro2_1min_20150801_v01.cdf to omni_data/hro2_1min/2015/omni_hro2_1min_20150801_v01.cdf\n",
            "26-Nov-24 21:02:52: Download complete: omni_data/hro2_1min/2015/omni_hro2_1min_20150801_v01.cdf\n",
            "26-Nov-24 21:02:52: Downloading https://spdf.gsfc.nasa.gov/pub/data/omni/omni_cdaweb/hro2_1min/2015/omni_hro2_1min_20150901_v01.cdf to omni_data/hro2_1min/2015/omni_hro2_1min_20150901_v01.cdf\n",
            "26-Nov-24 21:02:52: Download complete: omni_data/hro2_1min/2015/omni_hro2_1min_20150901_v01.cdf\n",
            "26-Nov-24 21:02:52: Downloading https://spdf.gsfc.nasa.gov/pub/data/omni/omni_cdaweb/hro2_1min/2015/omni_hro2_1min_20151001_v01.cdf to omni_data/hro2_1min/2015/omni_hro2_1min_20151001_v01.cdf\n",
            "26-Nov-24 21:02:53: Download complete: omni_data/hro2_1min/2015/omni_hro2_1min_20151001_v01.cdf\n",
            "26-Nov-24 21:02:53: Downloading https://spdf.gsfc.nasa.gov/pub/data/omni/omni_cdaweb/hro2_1min/2015/omni_hro2_1min_20151101_v01.cdf to omni_data/hro2_1min/2015/omni_hro2_1min_20151101_v01.cdf\n",
            "26-Nov-24 21:02:53: Download complete: omni_data/hro2_1min/2015/omni_hro2_1min_20151101_v01.cdf\n",
            "26-Nov-24 21:02:53: Downloading https://spdf.gsfc.nasa.gov/pub/data/omni/omni_cdaweb/hro2_1min/2015/omni_hro2_1min_20151201_v01.cdf to omni_data/hro2_1min/2015/omni_hro2_1min_20151201_v01.cdf\n",
            "26-Nov-24 21:02:54: Download complete: omni_data/hro2_1min/2015/omni_hro2_1min_20151201_v01.cdf\n",
            "26-Nov-24 21:02:54: Downloading remote index: https://spdf.gsfc.nasa.gov/pub/data/omni/omni_cdaweb/hro2_1min/2016/\n",
            "26-Nov-24 21:02:54: Downloading https://spdf.gsfc.nasa.gov/pub/data/omni/omni_cdaweb/hro2_1min/2016/omni_hro2_1min_20160101_v01.cdf to omni_data/hro2_1min/2016/omni_hro2_1min_20160101_v01.cdf\n",
            "26-Nov-24 21:02:54: Download complete: omni_data/hro2_1min/2016/omni_hro2_1min_20160101_v01.cdf\n",
            "26-Nov-24 21:02:54: Downloading https://spdf.gsfc.nasa.gov/pub/data/omni/omni_cdaweb/hro2_1min/2016/omni_hro2_1min_20160201_v01.cdf to omni_data/hro2_1min/2016/omni_hro2_1min_20160201_v01.cdf\n",
            "26-Nov-24 21:02:54: Download complete: omni_data/hro2_1min/2016/omni_hro2_1min_20160201_v01.cdf\n",
            "26-Nov-24 21:02:55: Downloading https://spdf.gsfc.nasa.gov/pub/data/omni/omni_cdaweb/hro2_1min/2016/omni_hro2_1min_20160301_v01.cdf to omni_data/hro2_1min/2016/omni_hro2_1min_20160301_v01.cdf\n",
            "26-Nov-24 21:02:55: Download complete: omni_data/hro2_1min/2016/omni_hro2_1min_20160301_v01.cdf\n",
            "26-Nov-24 21:02:55: Downloading https://spdf.gsfc.nasa.gov/pub/data/omni/omni_cdaweb/hro2_1min/2016/omni_hro2_1min_20160401_v01.cdf to omni_data/hro2_1min/2016/omni_hro2_1min_20160401_v01.cdf\n",
            "26-Nov-24 21:02:55: Download complete: omni_data/hro2_1min/2016/omni_hro2_1min_20160401_v01.cdf\n",
            "26-Nov-24 21:02:56: Downloading https://spdf.gsfc.nasa.gov/pub/data/omni/omni_cdaweb/hro2_1min/2016/omni_hro2_1min_20160501_v01.cdf to omni_data/hro2_1min/2016/omni_hro2_1min_20160501_v01.cdf\n",
            "26-Nov-24 21:02:56: Download complete: omni_data/hro2_1min/2016/omni_hro2_1min_20160501_v01.cdf\n",
            "26-Nov-24 21:02:56: Downloading https://spdf.gsfc.nasa.gov/pub/data/omni/omni_cdaweb/hro2_1min/2016/omni_hro2_1min_20160601_v01.cdf to omni_data/hro2_1min/2016/omni_hro2_1min_20160601_v01.cdf\n",
            "26-Nov-24 21:02:56: Download complete: omni_data/hro2_1min/2016/omni_hro2_1min_20160601_v01.cdf\n",
            "26-Nov-24 21:02:56: Downloading https://spdf.gsfc.nasa.gov/pub/data/omni/omni_cdaweb/hro2_1min/2016/omni_hro2_1min_20160701_v01.cdf to omni_data/hro2_1min/2016/omni_hro2_1min_20160701_v01.cdf\n",
            "26-Nov-24 21:02:57: Download complete: omni_data/hro2_1min/2016/omni_hro2_1min_20160701_v01.cdf\n",
            "26-Nov-24 21:02:57: Downloading https://spdf.gsfc.nasa.gov/pub/data/omni/omni_cdaweb/hro2_1min/2016/omni_hro2_1min_20160801_v01.cdf to omni_data/hro2_1min/2016/omni_hro2_1min_20160801_v01.cdf\n",
            "26-Nov-24 21:02:57: Download complete: omni_data/hro2_1min/2016/omni_hro2_1min_20160801_v01.cdf\n",
            "26-Nov-24 21:02:57: Downloading https://spdf.gsfc.nasa.gov/pub/data/omni/omni_cdaweb/hro2_1min/2016/omni_hro2_1min_20160901_v01.cdf to omni_data/hro2_1min/2016/omni_hro2_1min_20160901_v01.cdf\n",
            "26-Nov-24 21:02:58: Download complete: omni_data/hro2_1min/2016/omni_hro2_1min_20160901_v01.cdf\n",
            "26-Nov-24 21:02:58: Downloading https://spdf.gsfc.nasa.gov/pub/data/omni/omni_cdaweb/hro2_1min/2016/omni_hro2_1min_20161001_v01.cdf to omni_data/hro2_1min/2016/omni_hro2_1min_20161001_v01.cdf\n",
            "26-Nov-24 21:02:58: Download complete: omni_data/hro2_1min/2016/omni_hro2_1min_20161001_v01.cdf\n",
            "26-Nov-24 21:02:58: Downloading https://spdf.gsfc.nasa.gov/pub/data/omni/omni_cdaweb/hro2_1min/2016/omni_hro2_1min_20161101_v01.cdf to omni_data/hro2_1min/2016/omni_hro2_1min_20161101_v01.cdf\n",
            "26-Nov-24 21:02:59: Download complete: omni_data/hro2_1min/2016/omni_hro2_1min_20161101_v01.cdf\n",
            "26-Nov-24 21:02:59: Downloading https://spdf.gsfc.nasa.gov/pub/data/omni/omni_cdaweb/hro2_1min/2016/omni_hro2_1min_20161201_v01.cdf to omni_data/hro2_1min/2016/omni_hro2_1min_20161201_v01.cdf\n",
            "26-Nov-24 21:02:59: Download complete: omni_data/hro2_1min/2016/omni_hro2_1min_20161201_v01.cdf\n",
            "26-Nov-24 21:02:59: Downloading remote index: https://spdf.gsfc.nasa.gov/pub/data/omni/omni_cdaweb/hro2_1min/2017/\n",
            "26-Nov-24 21:02:59: Downloading https://spdf.gsfc.nasa.gov/pub/data/omni/omni_cdaweb/hro2_1min/2017/omni_hro2_1min_20170101_v01.cdf to omni_data/hro2_1min/2017/omni_hro2_1min_20170101_v01.cdf\n",
            "26-Nov-24 21:02:59: Download complete: omni_data/hro2_1min/2017/omni_hro2_1min_20170101_v01.cdf\n",
            "26-Nov-24 21:03:00: Downloading https://spdf.gsfc.nasa.gov/pub/data/omni/omni_cdaweb/hro2_1min/2017/omni_hro2_1min_20170201_v01.cdf to omni_data/hro2_1min/2017/omni_hro2_1min_20170201_v01.cdf\n",
            "26-Nov-24 21:03:00: Download complete: omni_data/hro2_1min/2017/omni_hro2_1min_20170201_v01.cdf\n",
            "26-Nov-24 21:03:00: Downloading https://spdf.gsfc.nasa.gov/pub/data/omni/omni_cdaweb/hro2_1min/2017/omni_hro2_1min_20170301_v01.cdf to omni_data/hro2_1min/2017/omni_hro2_1min_20170301_v01.cdf\n",
            "26-Nov-24 21:03:00: Download complete: omni_data/hro2_1min/2017/omni_hro2_1min_20170301_v01.cdf\n",
            "26-Nov-24 21:03:01: Downloading https://spdf.gsfc.nasa.gov/pub/data/omni/omni_cdaweb/hro2_1min/2017/omni_hro2_1min_20170401_v01.cdf to omni_data/hro2_1min/2017/omni_hro2_1min_20170401_v01.cdf\n",
            "26-Nov-24 21:03:01: Download complete: omni_data/hro2_1min/2017/omni_hro2_1min_20170401_v01.cdf\n",
            "26-Nov-24 21:03:01: Downloading https://spdf.gsfc.nasa.gov/pub/data/omni/omni_cdaweb/hro2_1min/2017/omni_hro2_1min_20170501_v01.cdf to omni_data/hro2_1min/2017/omni_hro2_1min_20170501_v01.cdf\n",
            "26-Nov-24 21:03:01: Download complete: omni_data/hro2_1min/2017/omni_hro2_1min_20170501_v01.cdf\n",
            "26-Nov-24 21:03:02: Downloading https://spdf.gsfc.nasa.gov/pub/data/omni/omni_cdaweb/hro2_1min/2017/omni_hro2_1min_20170601_v01.cdf to omni_data/hro2_1min/2017/omni_hro2_1min_20170601_v01.cdf\n",
            "26-Nov-24 21:03:02: Download complete: omni_data/hro2_1min/2017/omni_hro2_1min_20170601_v01.cdf\n",
            "26-Nov-24 21:03:02: Downloading https://spdf.gsfc.nasa.gov/pub/data/omni/omni_cdaweb/hro2_1min/2017/omni_hro2_1min_20170701_v01.cdf to omni_data/hro2_1min/2017/omni_hro2_1min_20170701_v01.cdf\n",
            "26-Nov-24 21:03:02: Download complete: omni_data/hro2_1min/2017/omni_hro2_1min_20170701_v01.cdf\n",
            "26-Nov-24 21:03:03: Downloading https://spdf.gsfc.nasa.gov/pub/data/omni/omni_cdaweb/hro2_1min/2017/omni_hro2_1min_20170801_v01.cdf to omni_data/hro2_1min/2017/omni_hro2_1min_20170801_v01.cdf\n",
            "26-Nov-24 21:03:03: Download complete: omni_data/hro2_1min/2017/omni_hro2_1min_20170801_v01.cdf\n",
            "26-Nov-24 21:03:03: Downloading https://spdf.gsfc.nasa.gov/pub/data/omni/omni_cdaweb/hro2_1min/2017/omni_hro2_1min_20170901_v01.cdf to omni_data/hro2_1min/2017/omni_hro2_1min_20170901_v01.cdf\n",
            "26-Nov-24 21:03:03: Download complete: omni_data/hro2_1min/2017/omni_hro2_1min_20170901_v01.cdf\n",
            "26-Nov-24 21:03:03: Downloading https://spdf.gsfc.nasa.gov/pub/data/omni/omni_cdaweb/hro2_1min/2017/omni_hro2_1min_20171001_v01.cdf to omni_data/hro2_1min/2017/omni_hro2_1min_20171001_v01.cdf\n",
            "26-Nov-24 21:03:04: Download complete: omni_data/hro2_1min/2017/omni_hro2_1min_20171001_v01.cdf\n",
            "26-Nov-24 21:03:04: Downloading https://spdf.gsfc.nasa.gov/pub/data/omni/omni_cdaweb/hro2_1min/2017/omni_hro2_1min_20171101_v01.cdf to omni_data/hro2_1min/2017/omni_hro2_1min_20171101_v01.cdf\n",
            "26-Nov-24 21:03:04: Download complete: omni_data/hro2_1min/2017/omni_hro2_1min_20171101_v01.cdf\n",
            "26-Nov-24 21:03:05: Downloading https://spdf.gsfc.nasa.gov/pub/data/omni/omni_cdaweb/hro2_1min/2017/omni_hro2_1min_20171201_v01.cdf to omni_data/hro2_1min/2017/omni_hro2_1min_20171201_v01.cdf\n",
            "26-Nov-24 21:03:05: Download complete: omni_data/hro2_1min/2017/omni_hro2_1min_20171201_v01.cdf\n",
            "26-Nov-24 21:03:05: Downloading remote index: https://spdf.gsfc.nasa.gov/pub/data/omni/omni_cdaweb/hro2_1min/2018/\n",
            "26-Nov-24 21:03:05: Downloading https://spdf.gsfc.nasa.gov/pub/data/omni/omni_cdaweb/hro2_1min/2018/omni_hro2_1min_20180101_v01.cdf to omni_data/hro2_1min/2018/omni_hro2_1min_20180101_v01.cdf\n",
            "26-Nov-24 21:03:05: Download complete: omni_data/hro2_1min/2018/omni_hro2_1min_20180101_v01.cdf\n",
            "26-Nov-24 21:03:06: Downloading https://spdf.gsfc.nasa.gov/pub/data/omni/omni_cdaweb/hro2_1min/2018/omni_hro2_1min_20180201_v01.cdf to omni_data/hro2_1min/2018/omni_hro2_1min_20180201_v01.cdf\n",
            "26-Nov-24 21:03:06: Download complete: omni_data/hro2_1min/2018/omni_hro2_1min_20180201_v01.cdf\n",
            "26-Nov-24 21:03:06: Downloading https://spdf.gsfc.nasa.gov/pub/data/omni/omni_cdaweb/hro2_1min/2018/omni_hro2_1min_20180301_v01.cdf to omni_data/hro2_1min/2018/omni_hro2_1min_20180301_v01.cdf\n",
            "26-Nov-24 21:03:06: Download complete: omni_data/hro2_1min/2018/omni_hro2_1min_20180301_v01.cdf\n",
            "26-Nov-24 21:03:07: Downloading https://spdf.gsfc.nasa.gov/pub/data/omni/omni_cdaweb/hro2_1min/2018/omni_hro2_1min_20180401_v01.cdf to omni_data/hro2_1min/2018/omni_hro2_1min_20180401_v01.cdf\n",
            "26-Nov-24 21:03:07: Download complete: omni_data/hro2_1min/2018/omni_hro2_1min_20180401_v01.cdf\n",
            "26-Nov-24 21:03:07: Downloading https://spdf.gsfc.nasa.gov/pub/data/omni/omni_cdaweb/hro2_1min/2018/omni_hro2_1min_20180501_v01.cdf to omni_data/hro2_1min/2018/omni_hro2_1min_20180501_v01.cdf\n",
            "26-Nov-24 21:03:07: Download complete: omni_data/hro2_1min/2018/omni_hro2_1min_20180501_v01.cdf\n",
            "26-Nov-24 21:03:07: Downloading https://spdf.gsfc.nasa.gov/pub/data/omni/omni_cdaweb/hro2_1min/2018/omni_hro2_1min_20180601_v01.cdf to omni_data/hro2_1min/2018/omni_hro2_1min_20180601_v01.cdf\n",
            "26-Nov-24 21:03:08: Download complete: omni_data/hro2_1min/2018/omni_hro2_1min_20180601_v01.cdf\n",
            "26-Nov-24 21:03:08: Downloading https://spdf.gsfc.nasa.gov/pub/data/omni/omni_cdaweb/hro2_1min/2018/omni_hro2_1min_20180701_v01.cdf to omni_data/hro2_1min/2018/omni_hro2_1min_20180701_v01.cdf\n",
            "26-Nov-24 21:03:08: Download complete: omni_data/hro2_1min/2018/omni_hro2_1min_20180701_v01.cdf\n",
            "26-Nov-24 21:03:08: Downloading https://spdf.gsfc.nasa.gov/pub/data/omni/omni_cdaweb/hro2_1min/2018/omni_hro2_1min_20180801_v01.cdf to omni_data/hro2_1min/2018/omni_hro2_1min_20180801_v01.cdf\n",
            "26-Nov-24 21:03:09: Download complete: omni_data/hro2_1min/2018/omni_hro2_1min_20180801_v01.cdf\n",
            "26-Nov-24 21:03:09: Downloading https://spdf.gsfc.nasa.gov/pub/data/omni/omni_cdaweb/hro2_1min/2018/omni_hro2_1min_20180901_v01.cdf to omni_data/hro2_1min/2018/omni_hro2_1min_20180901_v01.cdf\n",
            "26-Nov-24 21:03:09: Download complete: omni_data/hro2_1min/2018/omni_hro2_1min_20180901_v01.cdf\n",
            "26-Nov-24 21:03:09: Downloading https://spdf.gsfc.nasa.gov/pub/data/omni/omni_cdaweb/hro2_1min/2018/omni_hro2_1min_20181001_v01.cdf to omni_data/hro2_1min/2018/omni_hro2_1min_20181001_v01.cdf\n",
            "26-Nov-24 21:03:10: Download complete: omni_data/hro2_1min/2018/omni_hro2_1min_20181001_v01.cdf\n",
            "26-Nov-24 21:03:10: Downloading https://spdf.gsfc.nasa.gov/pub/data/omni/omni_cdaweb/hro2_1min/2018/omni_hro2_1min_20181101_v01.cdf to omni_data/hro2_1min/2018/omni_hro2_1min_20181101_v01.cdf\n",
            "26-Nov-24 21:03:10: Download complete: omni_data/hro2_1min/2018/omni_hro2_1min_20181101_v01.cdf\n",
            "26-Nov-24 21:03:10: Downloading https://spdf.gsfc.nasa.gov/pub/data/omni/omni_cdaweb/hro2_1min/2018/omni_hro2_1min_20181201_v01.cdf to omni_data/hro2_1min/2018/omni_hro2_1min_20181201_v01.cdf\n",
            "26-Nov-24 21:03:10: Download complete: omni_data/hro2_1min/2018/omni_hro2_1min_20181201_v01.cdf\n",
            "26-Nov-24 21:03:32: Floating point data values for variable NaNp_Ratio are all fillval (9.999000e+00)\n",
            "26-Nov-24 21:03:33: Floating point data values for variable NaNp_Ratio are all fillval (9.999000e+00)\n"
          ]
        }
      ]
    },
    {
      "cell_type": "markdown",
      "source": [
        "Main function in this section which averages the values of the  indices over the time of observation of the pulsar and computed LST"
      ],
      "metadata": {
        "id": "Khzm3vqBPFNV"
      }
    },
    {
      "cell_type": "code",
      "source": [
        "def get_dataset(pulsar_time, f10_7_data, Xray_B_data, SYM_H_data):\n",
        "    f10_7_time, f10_7 = f10_7_data[0], f10_7_data[1]\n",
        "    Xray_B_time, Xray_b = Xray_B_data[0], Xray_B_data[1]\n",
        "    SYM_H_time, SYM_H = SYM_H_data[0], SYM_H_data[1]\n",
        "\n",
        "\n",
        "    f10_7_feature = []\n",
        "    Xray_feature = []\n",
        "    SYM_H_feature = []\n",
        "\n",
        "    #LOCAL SOLAR TIME\n",
        "    longitude = 6.861858  #longitude of LOFAR\n",
        "    latitude = 52.915851   #latitude of LOFAR\n",
        "    location = EarthLocation.from_geodetic(longitude*u.deg, latitude*u.deg)\n",
        "\n",
        "    #MJD to UTC Time\n",
        "    time_utc = Time(pulsar_time, format='mjd', scale='utc')\n",
        "\n",
        "    #UTC Time to Local Solar Time (LST)\n",
        "    LST_feature = time_utc.sidereal_time('apparent', longitude)\n",
        "\n",
        "    #everything to UNIX\n",
        "    time_tmp = Time(pulsar_time, format = 'mjd')\n",
        "    time_tmp.format = 'unix'\n",
        "    pulsar_time = time_tmp.value\n",
        "\n",
        "\n",
        "    time_tmp  = Time(f10_7_time, format = 'decimalyear')\n",
        "    time_tmp.format = 'unix'\n",
        "    f10_7_time = time_tmp.value\n",
        "\n",
        "    for i in tqdm(range(len(pulsar_time))):\n",
        "        t = pulsar_time[i]\n",
        "        t_start = t - 7.5*60\n",
        "        t_end = t + 7.5*60\n",
        "\n",
        "        #XRAY\n",
        "        inds = []\n",
        "        for i in range(len(Xray_B_time)):\n",
        "            if Xray_B_time[i] >= t_start and Xray_B_time[i] <= t_end:\n",
        "                inds.append(i)\n",
        "        Xray_feature.append(np.mean(Xray_b[inds]))\n",
        "\n",
        "        if len(Xray_b[inds]) == 0:\n",
        "            print(\"SOMETHING WENT WRONG\")\n",
        "\n",
        "        #SYM-H\n",
        "        inds = []\n",
        "        for i in range(len(SYM_H_time)):\n",
        "            if SYM_H_time[i] >= t_start and SYM_H_time[i] <= t_end:\n",
        "                inds.append(i)\n",
        "        SYM_H_feature.append(np.mean(SYM_H[inds]))\n",
        "\n",
        "        #take the mean for a day for F10.7\n",
        "        puls_day = Time(t, format='unix').datetime.date()\n",
        "\n",
        "        def get_feature_for_day(time, values, puls_day):\n",
        "            feature = []\n",
        "            inds = []\n",
        "            for i in range(len(time)):\n",
        "                if Time(time[i], format='unix').datetime.date() == puls_day:\n",
        "                    inds.append(i)\n",
        "            return np.mean(values[inds])\n",
        "\n",
        "        f10_7_feature.append(get_feature_for_day(f10_7_time, f10_7, puls_day))\n",
        "\n",
        "\n",
        "    dataset = pd.DataFrame({'X-ray B': Xray_feature, 'SYM-H' : SYM_H_feature, 'F10.7' : f10_7_feature, \\\n",
        "                            'LST' : LST_feature})\n",
        "    return dataset"
      ],
      "metadata": {
        "id": "l5nt54ruPAyI"
      },
      "execution_count": 33,
      "outputs": []
    },
    {
      "cell_type": "markdown",
      "source": [
        "Run the function and save the data. Calculation time: from half an hour to an hour"
      ],
      "metadata": {
        "id": "mghE99t3RzwS"
      }
    },
    {
      "cell_type": "code",
      "source": [
        "dataset = get_dataset(mjd_pulsar, [np.array(time_for_flux_cleared), np.array(flux_cleared)], \\\n",
        "            [time_B_AVG, B_AVG], [time_SYM_H, SYM_H])"
      ],
      "metadata": {
        "id": "ncGiCp2jTO4L"
      },
      "execution_count": null,
      "outputs": []
    },
    {
      "cell_type": "code",
      "source": [
        "dataset.to_csv(puls_name+\"_geosolar.txt\", header=None, index=None, sep=' ', mode='w')"
      ],
      "metadata": {
        "id": "3SUiSLCMR82F"
      },
      "execution_count": null,
      "outputs": []
    }
  ]
}